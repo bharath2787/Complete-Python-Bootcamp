{
  "cells": [
    {
      "cell_type": "markdown",
      "metadata": {
        "id": "view-in-github",
        "colab_type": "text"
      },
      "source": [
        "<a href=\"https://colab.research.google.com/github/bharath2787/Complete-Python-Bootcamp/blob/master/Python_Basics/Data%20Structures/Tuples_Python_Tuples_Methods.ipynb\" target=\"_parent\"><img src=\"https://colab.research.google.com/assets/colab-badge.svg\" alt=\"Open In Colab\"/></a>"
      ]
    },
    {
      "cell_type": "markdown",
      "metadata": {
        "id": "MJ23azTpBLgy"
      },
      "source": [
        "# Python Tuples - Methods Explained with Examples\n",
        "\n",
        "## Introduction to Tuples\n",
        "Tuples are immutable, ordered collections of items.\n",
        "They are defined using parentheses and can hold items of mixed data types."
      ]
    },
    {
      "cell_type": "code",
      "execution_count": null,
      "metadata": {
        "id": "CpJDIfu1BLg2"
      },
      "outputs": [],
      "source": [
        "# Example of a tuple\n",
        "tuple_example = (1, 2, 3, 4, 5)\n",
        "print(\"Tuple:\", tuple_example)"
      ]
    },
    {
      "cell_type": "markdown",
      "metadata": {
        "id": "4XZwbAuIBLg3"
      },
      "source": [
        "## Tuple Methods\n",
        "Unlike lists, tuples have only two built-in methods: `count()` and `index()`."
      ]
    },
    {
      "cell_type": "markdown",
      "metadata": {
        "id": "X3qXqL6GBLg3"
      },
      "source": [
        "### Method 1: count()\n",
        "Description: Returns the number of occurrences of a specified value in the tuple."
      ]
    },
    {
      "cell_type": "code",
      "execution_count": null,
      "metadata": {
        "id": "PXo95kT2BLg4"
      },
      "outputs": [],
      "source": [
        "# Example\n",
        "sample_tuple = (1, 2, 3, 2, 4, 2)\n",
        "count_2 = sample_tuple.count(2)\n",
        "print(\"Count of 2 in tuple:\", count_2)"
      ]
    },
    {
      "cell_type": "markdown",
      "metadata": {
        "id": "Ook0IhiABLg4"
      },
      "source": [
        "### Method 2: index()\n",
        "Description: Returns the index of the first occurrence of a specified value in the tuple. Raises a ValueError if the value is not found."
      ]
    },
    {
      "cell_type": "code",
      "execution_count": null,
      "metadata": {
        "id": "hFT4yKBABLg4"
      },
      "outputs": [],
      "source": [
        "# Example\n",
        "index_3 = sample_tuple.index(3)\n",
        "print(\"Index of 3 in tuple:\", index_3)"
      ]
    },
    {
      "cell_type": "markdown",
      "metadata": {
        "id": "-hzEBNvsBLg5"
      },
      "source": [
        "## Accessing Tuple Elements\n",
        "Tuples support indexing and slicing to access elements."
      ]
    },
    {
      "cell_type": "code",
      "execution_count": null,
      "metadata": {
        "id": "44AQiVuDBLg5"
      },
      "outputs": [],
      "source": [
        "# Example: Indexing\n",
        "print(\"Element at index 1:\", tuple_example[1])\n",
        "\n",
        "# Example: Negative Indexing\n",
        "print(\"Element at last index:\", tuple_example[-1])\n",
        "\n",
        "# Example: Slicing\n",
        "print(\"Slicing tuple (index 1 to 3):\", tuple_example[1:4])"
      ]
    },
    {
      "cell_type": "markdown",
      "metadata": {
        "id": "eVrC2QC1BLg5"
      },
      "source": [
        "## Tuple Operations\n",
        "Tuples support operations like concatenation, repetition, and membership tests."
      ]
    },
    {
      "cell_type": "code",
      "execution_count": null,
      "metadata": {
        "colab": {
          "base_uri": "https://localhost:8080/"
        },
        "id": "QgoT10ixBLg6",
        "outputId": "c3e12cd5-1b74-43eb-ec3f-82e443a2c349"
      },
      "outputs": [
        {
          "output_type": "stream",
          "name": "stdout",
          "text": [
            "Concatenated Tuple: (1, 2, 3, 4)\n",
            "Repeated Tuple: (1, 2, 1, 2, 1, 2)\n",
            "Is 2 in tuple1? True\n"
          ]
        }
      ],
      "source": [
        "# Concatenation\n",
        "tuple1 = (1, 2)\n",
        "tuple2 = (3, 4)\n",
        "concatenated_tuple = tuple1 + tuple2\n",
        "print(\"Concatenated Tuple:\", concatenated_tuple)\n",
        "\n",
        "# Repetition\n",
        "repeated_tuple = tuple1 * 3\n",
        "print(\"Repeated Tuple:\", repeated_tuple)\n",
        "\n",
        "# Membership Test\n",
        "print(\"Is 2 in tuple1?\", 2 in tuple1)"
      ]
    },
    {
      "cell_type": "markdown",
      "metadata": {
        "id": "FmR4A7PjBLg6"
      },
      "source": [
        "## Immutability of Tuples\n",
        "Tuples cannot be modified after creation."
      ]
    },
    {
      "cell_type": "code",
      "execution_count": null,
      "metadata": {
        "id": "kOTbV3HiBLg6"
      },
      "outputs": [],
      "source": [
        "# Example: Attempting to modify a tuple (this will raise an error)\n",
        "try:\n",
        "    tuple_example[0] = 99  # This line will raise an error\n",
        "except TypeError as e:\n",
        "    print(\"Error:\", e)"
      ]
    }
  ],
  "metadata": {
    "kernelspec": {
      "display_name": "Python 3",
      "language": "python",
      "name": "python3"
    },
    "language_info": {
      "codemirror_mode": {
        "name": "ipython",
        "version": 3
      },
      "file_extension": ".py",
      "mimetype": "text/x-python",
      "name": "python",
      "nbconvert_exporter": "python",
      "pygments_lexer": "ipython3",
      "version": "3.8.5"
    },
    "colab": {
      "provenance": [],
      "include_colab_link": true
    }
  },
  "nbformat": 4,
  "nbformat_minor": 0
}